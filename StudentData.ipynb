{
 "cells": [
  {
   "cell_type": "markdown",
   "id": "2d9ded33",
   "metadata": {},
   "source": [
    "# Student Data\n",
    "This Notebook analyzes Pass Fail Data for a class"
   ]
  },
  {
   "cell_type": "code",
   "execution_count": 2,
   "id": "7e204258",
   "metadata": {},
   "outputs": [],
   "source": [
    "data = [50, 47, 97, 49, 49, 3, 53, 42, 26, 74, 84, 62, 37, 15, 70, 27, 36, 35, 48, 52, 63, 64]"
   ]
  },
  {
   "cell_type": "code",
   "execution_count": 3,
   "id": "87084128",
   "metadata": {},
   "outputs": [
    {
     "name": "stdout",
     "output_type": "stream",
     "text": [
      "[50, 47, 97, 49, 49, 3, 53, 42, 26, 74, 84, 62, 37, 15, 70, 27, 36, 35, 48, 52, 63, 64, 50, 47, 97, 49, 49, 3, 53, 42, 26, 74, 84, 62, 37, 15, 70, 27, 36, 35, 48, 52, 63, 64]\n",
      "Grades: [50 47 97 49 49  3 53 42 26 74 84 62 37 15 70 27 36 35 48 52 63 64]\n",
      "[100  94 194  98  98   6 106  84  52 148 168 124  74  30 140  54  72  70\n",
      "  96 104 126 128]\n",
      "Mean: 49.22727272727273\n",
      "Median: 49.0\n",
      "Standard Deviation: 21.381665506566854\n"
     ]
    }
   ],
   "source": [
    "import numpy as np\n",
    "grades = np.array(data)\n",
    "print(data*2)\n",
    "print(\"Grades:\", grades)\n",
    "print(grades*2)\n",
    "print(\"Mean:\", np.mean(grades))\n",
    "print(\"Median:\", np.median(grades))\n",
    "print(\"Standard Deviation:\", np.std(grades))"
   ]
  },
  {
   "cell_type": "code",
   "execution_count": 4,
   "id": "8910fd76",
   "metadata": {},
   "outputs": [
    {
     "data": {
      "text/plain": [
       "(22,)"
      ]
     },
     "execution_count": 4,
     "metadata": {},
     "output_type": "execute_result"
    }
   ],
   "source": [
    "grades.shape\n"
   ]
  },
  {
   "cell_type": "code",
   "execution_count": 5,
   "id": "94c9ce77",
   "metadata": {},
   "outputs": [
    {
     "data": {
      "text/plain": [
       "np.int64(50)"
      ]
     },
     "execution_count": 5,
     "metadata": {},
     "output_type": "execute_result"
    }
   ],
   "source": [
    "grades[0]  # Accessing the first element of the grades array"
   ]
  },
  {
   "cell_type": "code",
   "execution_count": 6,
   "id": "4b9d5a78",
   "metadata": {},
   "outputs": [],
   "source": [
    "study_hours = [10.0,11.5,9.0,16.0,9.25,1.0,11.5,9.0,8.5,14.5,15.5,13.75,9.0,8.0,15.5,8.0,9.0,6.0,10.0,12.0,12.5,12.0]\n",
    "student_data = np.array([study_hours, grades])"
   ]
  },
  {
   "cell_type": "code",
   "execution_count": 7,
   "id": "3d60553b",
   "metadata": {},
   "outputs": [
    {
     "data": {
      "text/plain": [
       "np.float64(50.0)"
      ]
     },
     "execution_count": 7,
     "metadata": {},
     "output_type": "execute_result"
    }
   ],
   "source": [
    "student_data[0]\n",
    "student_data[1][0]"
   ]
  },
  {
   "cell_type": "code",
   "execution_count": 8,
   "id": "f9e7ee0d",
   "metadata": {},
   "outputs": [
    {
     "name": "stdout",
     "output_type": "stream",
     "text": [
      "Average Study Time: 10.522727272727273\n",
      "Average Grade: 49.22727272727273\n"
     ]
    }
   ],
   "source": [
    "avg_study = student_data[0].mean()\n",
    "avg_grade = student_data[1].mean()\n",
    "print(f\"Average Study Time: {avg_study}\\nAverage Grade: {avg_grade}\")"
   ]
  },
  {
   "cell_type": "code",
   "execution_count": 9,
   "id": "f15ccb6f",
   "metadata": {},
   "outputs": [],
   "source": [
    "import pandas as pd\n",
    "\n",
    "df_students = pd.DataFrame({'name': ['Dan', 'Joann', 'Pedro', 'Rosie', 'Ethan', 'Vicky', 'Frederic', 'Jimmie', \n",
    "                                     'Rhonda','Giovanni', 'Francesca','Rajab','Naiyana','Kian','Jenny',\n",
    "                                     'Jakeem','Helena','Ismat','Anila','Skye','Daniele','Aisha'],\n",
    "                                     'study_hours': student_data[0], 'grades': student_data[1]})\n"
   ]
  },
  {
   "cell_type": "code",
   "execution_count": 10,
   "id": "16353b38",
   "metadata": {},
   "outputs": [
    {
     "data": {
      "application/vnd.microsoft.datawrangler.viewer.v0+json": {
       "columns": [
        {
         "name": "index",
         "rawType": "object",
         "type": "string"
        },
        {
         "name": "5",
         "rawType": "object",
         "type": "unknown"
        }
       ],
       "ref": "d386ceb7-9d1a-4973-9197-2bfcea06a792",
       "rows": [
        [
         "name",
         "Vicky"
        ],
        [
         "study_hours",
         "1.0"
        ],
        [
         "grades",
         "3.0"
        ]
       ],
       "shape": {
        "columns": 1,
        "rows": 3
       }
      },
      "text/plain": [
       "name           Vicky\n",
       "study_hours      1.0\n",
       "grades           3.0\n",
       "Name: 5, dtype: object"
      ]
     },
     "execution_count": 10,
     "metadata": {},
     "output_type": "execute_result"
    }
   ],
   "source": [
    "df_students.loc[5, 'grades']\n",
    "df_students.loc[5, 'study_hours']\n",
    "df_students.loc[5]\n",
    "\n"
   ]
  },
  {
   "cell_type": "code",
   "execution_count": 11,
   "id": "a80c30dd",
   "metadata": {},
   "outputs": [
    {
     "data": {
      "application/vnd.microsoft.datawrangler.viewer.v0+json": {
       "columns": [
        {
         "name": "index",
         "rawType": "int64",
         "type": "integer"
        },
        {
         "name": "name",
         "rawType": "object",
         "type": "string"
        },
        {
         "name": "study_hours",
         "rawType": "float64",
         "type": "float"
        },
        {
         "name": "grades",
         "rawType": "float64",
         "type": "float"
        }
       ],
       "ref": "050ae011-d2ac-43ab-ba41-b0bd533c7c8b",
       "rows": [
        [
         "5",
         "Vicky",
         "1.0",
         "3.0"
        ]
       ],
       "shape": {
        "columns": 3,
        "rows": 1
       }
      },
      "text/html": [
       "<div>\n",
       "<style scoped>\n",
       "    .dataframe tbody tr th:only-of-type {\n",
       "        vertical-align: middle;\n",
       "    }\n",
       "\n",
       "    .dataframe tbody tr th {\n",
       "        vertical-align: top;\n",
       "    }\n",
       "\n",
       "    .dataframe thead th {\n",
       "        text-align: right;\n",
       "    }\n",
       "</style>\n",
       "<table border=\"1\" class=\"dataframe\">\n",
       "  <thead>\n",
       "    <tr style=\"text-align: right;\">\n",
       "      <th></th>\n",
       "      <th>name</th>\n",
       "      <th>study_hours</th>\n",
       "      <th>grades</th>\n",
       "    </tr>\n",
       "  </thead>\n",
       "  <tbody>\n",
       "    <tr>\n",
       "      <th>5</th>\n",
       "      <td>Vicky</td>\n",
       "      <td>1.0</td>\n",
       "      <td>3.0</td>\n",
       "    </tr>\n",
       "  </tbody>\n",
       "</table>\n",
       "</div>"
      ],
      "text/plain": [
       "    name  study_hours  grades\n",
       "5  Vicky          1.0     3.0"
      ]
     },
     "execution_count": 11,
     "metadata": {},
     "output_type": "execute_result"
    }
   ],
   "source": [
    "df_students.loc[df_students['name']=='Vicky']"
   ]
  },
  {
   "cell_type": "code",
   "execution_count": 12,
   "id": "c92010a8",
   "metadata": {},
   "outputs": [
    {
     "data": {
      "application/vnd.microsoft.datawrangler.viewer.v0+json": {
       "columns": [
        {
         "name": "index",
         "rawType": "int64",
         "type": "integer"
        },
        {
         "name": "name",
         "rawType": "object",
         "type": "string"
        },
        {
         "name": "study_hours",
         "rawType": "float64",
         "type": "float"
        },
        {
         "name": "grades",
         "rawType": "float64",
         "type": "float"
        }
       ],
       "ref": "0a7ea215-801d-45ac-8db6-7b47f59ffe90",
       "rows": [
        [
         "5",
         "Vicky",
         "1.0",
         "3.0"
        ]
       ],
       "shape": {
        "columns": 3,
        "rows": 1
       }
      },
      "text/html": [
       "<div>\n",
       "<style scoped>\n",
       "    .dataframe tbody tr th:only-of-type {\n",
       "        vertical-align: middle;\n",
       "    }\n",
       "\n",
       "    .dataframe tbody tr th {\n",
       "        vertical-align: top;\n",
       "    }\n",
       "\n",
       "    .dataframe thead th {\n",
       "        text-align: right;\n",
       "    }\n",
       "</style>\n",
       "<table border=\"1\" class=\"dataframe\">\n",
       "  <thead>\n",
       "    <tr style=\"text-align: right;\">\n",
       "      <th></th>\n",
       "      <th>name</th>\n",
       "      <th>study_hours</th>\n",
       "      <th>grades</th>\n",
       "    </tr>\n",
       "  </thead>\n",
       "  <tbody>\n",
       "    <tr>\n",
       "      <th>5</th>\n",
       "      <td>Vicky</td>\n",
       "      <td>1.0</td>\n",
       "      <td>3.0</td>\n",
       "    </tr>\n",
       "  </tbody>\n",
       "</table>\n",
       "</div>"
      ],
      "text/plain": [
       "    name  study_hours  grades\n",
       "5  Vicky          1.0     3.0"
      ]
     },
     "execution_count": 12,
     "metadata": {},
     "output_type": "execute_result"
    }
   ],
   "source": [
    "df_students.query('name == \"Vicky\"')"
   ]
  },
  {
   "cell_type": "code",
   "execution_count": 13,
   "id": "a064f7fc",
   "metadata": {},
   "outputs": [
    {
     "data": {
      "application/vnd.microsoft.datawrangler.viewer.v0+json": {
       "columns": [
        {
         "name": "index",
         "rawType": "int64",
         "type": "integer"
        },
        {
         "name": "name",
         "rawType": "object",
         "type": "string"
        },
        {
         "name": "study_hours",
         "rawType": "float64",
         "type": "float"
        },
        {
         "name": "grades",
         "rawType": "float64",
         "type": "float"
        }
       ],
       "ref": "530736ed-cb04-4b4c-9dc9-2af2c8430477",
       "rows": [
        [
         "5",
         "Vicky",
         "1.0",
         "3.0"
        ]
       ],
       "shape": {
        "columns": 3,
        "rows": 1
       }
      },
      "text/html": [
       "<div>\n",
       "<style scoped>\n",
       "    .dataframe tbody tr th:only-of-type {\n",
       "        vertical-align: middle;\n",
       "    }\n",
       "\n",
       "    .dataframe tbody tr th {\n",
       "        vertical-align: top;\n",
       "    }\n",
       "\n",
       "    .dataframe thead th {\n",
       "        text-align: right;\n",
       "    }\n",
       "</style>\n",
       "<table border=\"1\" class=\"dataframe\">\n",
       "  <thead>\n",
       "    <tr style=\"text-align: right;\">\n",
       "      <th></th>\n",
       "      <th>name</th>\n",
       "      <th>study_hours</th>\n",
       "      <th>grades</th>\n",
       "    </tr>\n",
       "  </thead>\n",
       "  <tbody>\n",
       "    <tr>\n",
       "      <th>5</th>\n",
       "      <td>Vicky</td>\n",
       "      <td>1.0</td>\n",
       "      <td>3.0</td>\n",
       "    </tr>\n",
       "  </tbody>\n",
       "</table>\n",
       "</div>"
      ],
      "text/plain": [
       "    name  study_hours  grades\n",
       "5  Vicky          1.0     3.0"
      ]
     },
     "execution_count": 13,
     "metadata": {},
     "output_type": "execute_result"
    }
   ],
   "source": [
    "df_students[df_students.name == 'Vicky']"
   ]
  },
  {
   "cell_type": "code",
   "execution_count": 14,
   "id": "030d8c16",
   "metadata": {},
   "outputs": [
    {
     "name": "stderr",
     "output_type": "stream",
     "text": [
      "'wget' is not recognized as an internal or external command,\n",
      "operable program or batch file.\n"
     ]
    },
    {
     "data": {
      "application/vnd.microsoft.datawrangler.viewer.v0+json": {
       "columns": [
        {
         "name": "index",
         "rawType": "int64",
         "type": "integer"
        },
        {
         "name": "Name",
         "rawType": "object",
         "type": "string"
        },
        {
         "name": "StudyHours",
         "rawType": "float64",
         "type": "float"
        },
        {
         "name": "Grade",
         "rawType": "float64",
         "type": "float"
        }
       ],
       "ref": "135d7588-caad-4b81-be74-36eda8762e93",
       "rows": [
        [
         "0",
         "Dan",
         "10.0",
         "50.0"
        ],
        [
         "1",
         "Joann",
         "11.5",
         "50.0"
        ],
        [
         "2",
         "Pedro",
         "9.0",
         "47.0"
        ],
        [
         "3",
         "Rosie",
         "16.0",
         "97.0"
        ],
        [
         "4",
         "Ethan",
         "9.25",
         "49.0"
        ]
       ],
       "shape": {
        "columns": 3,
        "rows": 5
       }
      },
      "text/html": [
       "<div>\n",
       "<style scoped>\n",
       "    .dataframe tbody tr th:only-of-type {\n",
       "        vertical-align: middle;\n",
       "    }\n",
       "\n",
       "    .dataframe tbody tr th {\n",
       "        vertical-align: top;\n",
       "    }\n",
       "\n",
       "    .dataframe thead th {\n",
       "        text-align: right;\n",
       "    }\n",
       "</style>\n",
       "<table border=\"1\" class=\"dataframe\">\n",
       "  <thead>\n",
       "    <tr style=\"text-align: right;\">\n",
       "      <th></th>\n",
       "      <th>Name</th>\n",
       "      <th>StudyHours</th>\n",
       "      <th>Grade</th>\n",
       "    </tr>\n",
       "  </thead>\n",
       "  <tbody>\n",
       "    <tr>\n",
       "      <th>0</th>\n",
       "      <td>Dan</td>\n",
       "      <td>10.00</td>\n",
       "      <td>50.0</td>\n",
       "    </tr>\n",
       "    <tr>\n",
       "      <th>1</th>\n",
       "      <td>Joann</td>\n",
       "      <td>11.50</td>\n",
       "      <td>50.0</td>\n",
       "    </tr>\n",
       "    <tr>\n",
       "      <th>2</th>\n",
       "      <td>Pedro</td>\n",
       "      <td>9.00</td>\n",
       "      <td>47.0</td>\n",
       "    </tr>\n",
       "    <tr>\n",
       "      <th>3</th>\n",
       "      <td>Rosie</td>\n",
       "      <td>16.00</td>\n",
       "      <td>97.0</td>\n",
       "    </tr>\n",
       "    <tr>\n",
       "      <th>4</th>\n",
       "      <td>Ethan</td>\n",
       "      <td>9.25</td>\n",
       "      <td>49.0</td>\n",
       "    </tr>\n",
       "  </tbody>\n",
       "</table>\n",
       "</div>"
      ],
      "text/plain": [
       "    Name  StudyHours  Grade\n",
       "0    Dan       10.00   50.0\n",
       "1  Joann       11.50   50.0\n",
       "2  Pedro        9.00   47.0\n",
       "3  Rosie       16.00   97.0\n",
       "4  Ethan        9.25   49.0"
      ]
     },
     "execution_count": 14,
     "metadata": {},
     "output_type": "execute_result"
    }
   ],
   "source": [
    "!wget https://raw.githubusercontent.com/MicrosoftDocs/mslearn-introduction-to-machine-learning/main/Data/ml-basics/grades.csv\n",
    "df_students = pd.read_csv('grades.csv',delimiter=',',header='infer')       #UnComment this to get CSV file, I have commented it as CSV is already there.\n",
    "df_students.head()"
   ]
  },
  {
   "cell_type": "code",
   "execution_count": 15,
   "id": "91444dec",
   "metadata": {},
   "outputs": [
    {
     "data": {
      "application/vnd.microsoft.datawrangler.viewer.v0+json": {
       "columns": [
        {
         "name": "index",
         "rawType": "int64",
         "type": "integer"
        },
        {
         "name": "Name",
         "rawType": "object",
         "type": "string"
        },
        {
         "name": "StudyHours",
         "rawType": "float64",
         "type": "float"
        },
        {
         "name": "Grade",
         "rawType": "float64",
         "type": "float"
        }
       ],
       "ref": "eb646944-2907-460d-9101-c0a60df9238a",
       "rows": [
        [
         "0",
         "Dan",
         "10.0",
         "50.0"
        ],
        [
         "1",
         "Joann",
         "11.5",
         "50.0"
        ],
        [
         "2",
         "Pedro",
         "9.0",
         "47.0"
        ],
        [
         "3",
         "Rosie",
         "16.0",
         "97.0"
        ],
        [
         "4",
         "Ethan",
         "9.25",
         "49.0"
        ],
        [
         "5",
         "Vicky",
         "1.0",
         "3.0"
        ],
        [
         "6",
         "Frederic",
         "11.5",
         "53.0"
        ],
        [
         "7",
         "Jimmie",
         "9.0",
         "42.0"
        ],
        [
         "8",
         "Rhonda",
         "8.5",
         "26.0"
        ],
        [
         "9",
         "Giovanni",
         "14.5",
         "74.0"
        ],
        [
         "10",
         "Francesca",
         "15.5",
         "82.0"
        ],
        [
         "11",
         "Rajab",
         "13.75",
         "62.0"
        ],
        [
         "12",
         "Naiyana",
         "9.0",
         "37.0"
        ],
        [
         "13",
         "Kian",
         "8.0",
         "15.0"
        ],
        [
         "14",
         "Jenny",
         "15.5",
         "70.0"
        ],
        [
         "15",
         "Jakeem",
         "8.0",
         "27.0"
        ],
        [
         "16",
         "Helena",
         "9.0",
         "36.0"
        ],
        [
         "17",
         "Ismat",
         "6.0",
         "35.0"
        ],
        [
         "18",
         "Anila",
         "10.0",
         "48.0"
        ],
        [
         "19",
         "Skye",
         "12.0",
         "52.0"
        ],
        [
         "20",
         "Daniel",
         "12.5",
         "63.0"
        ],
        [
         "21",
         "Aisha",
         "12.0",
         "64.0"
        ],
        [
         "22",
         "Bill",
         "8.0",
         null
        ],
        [
         "23",
         "Ted",
         null,
         null
        ]
       ],
       "shape": {
        "columns": 3,
        "rows": 24
       }
      },
      "text/html": [
       "<div>\n",
       "<style scoped>\n",
       "    .dataframe tbody tr th:only-of-type {\n",
       "        vertical-align: middle;\n",
       "    }\n",
       "\n",
       "    .dataframe tbody tr th {\n",
       "        vertical-align: top;\n",
       "    }\n",
       "\n",
       "    .dataframe thead th {\n",
       "        text-align: right;\n",
       "    }\n",
       "</style>\n",
       "<table border=\"1\" class=\"dataframe\">\n",
       "  <thead>\n",
       "    <tr style=\"text-align: right;\">\n",
       "      <th></th>\n",
       "      <th>Name</th>\n",
       "      <th>StudyHours</th>\n",
       "      <th>Grade</th>\n",
       "    </tr>\n",
       "  </thead>\n",
       "  <tbody>\n",
       "    <tr>\n",
       "      <th>0</th>\n",
       "      <td>Dan</td>\n",
       "      <td>10.00</td>\n",
       "      <td>50.0</td>\n",
       "    </tr>\n",
       "    <tr>\n",
       "      <th>1</th>\n",
       "      <td>Joann</td>\n",
       "      <td>11.50</td>\n",
       "      <td>50.0</td>\n",
       "    </tr>\n",
       "    <tr>\n",
       "      <th>2</th>\n",
       "      <td>Pedro</td>\n",
       "      <td>9.00</td>\n",
       "      <td>47.0</td>\n",
       "    </tr>\n",
       "    <tr>\n",
       "      <th>3</th>\n",
       "      <td>Rosie</td>\n",
       "      <td>16.00</td>\n",
       "      <td>97.0</td>\n",
       "    </tr>\n",
       "    <tr>\n",
       "      <th>4</th>\n",
       "      <td>Ethan</td>\n",
       "      <td>9.25</td>\n",
       "      <td>49.0</td>\n",
       "    </tr>\n",
       "    <tr>\n",
       "      <th>5</th>\n",
       "      <td>Vicky</td>\n",
       "      <td>1.00</td>\n",
       "      <td>3.0</td>\n",
       "    </tr>\n",
       "    <tr>\n",
       "      <th>6</th>\n",
       "      <td>Frederic</td>\n",
       "      <td>11.50</td>\n",
       "      <td>53.0</td>\n",
       "    </tr>\n",
       "    <tr>\n",
       "      <th>7</th>\n",
       "      <td>Jimmie</td>\n",
       "      <td>9.00</td>\n",
       "      <td>42.0</td>\n",
       "    </tr>\n",
       "    <tr>\n",
       "      <th>8</th>\n",
       "      <td>Rhonda</td>\n",
       "      <td>8.50</td>\n",
       "      <td>26.0</td>\n",
       "    </tr>\n",
       "    <tr>\n",
       "      <th>9</th>\n",
       "      <td>Giovanni</td>\n",
       "      <td>14.50</td>\n",
       "      <td>74.0</td>\n",
       "    </tr>\n",
       "    <tr>\n",
       "      <th>10</th>\n",
       "      <td>Francesca</td>\n",
       "      <td>15.50</td>\n",
       "      <td>82.0</td>\n",
       "    </tr>\n",
       "    <tr>\n",
       "      <th>11</th>\n",
       "      <td>Rajab</td>\n",
       "      <td>13.75</td>\n",
       "      <td>62.0</td>\n",
       "    </tr>\n",
       "    <tr>\n",
       "      <th>12</th>\n",
       "      <td>Naiyana</td>\n",
       "      <td>9.00</td>\n",
       "      <td>37.0</td>\n",
       "    </tr>\n",
       "    <tr>\n",
       "      <th>13</th>\n",
       "      <td>Kian</td>\n",
       "      <td>8.00</td>\n",
       "      <td>15.0</td>\n",
       "    </tr>\n",
       "    <tr>\n",
       "      <th>14</th>\n",
       "      <td>Jenny</td>\n",
       "      <td>15.50</td>\n",
       "      <td>70.0</td>\n",
       "    </tr>\n",
       "    <tr>\n",
       "      <th>15</th>\n",
       "      <td>Jakeem</td>\n",
       "      <td>8.00</td>\n",
       "      <td>27.0</td>\n",
       "    </tr>\n",
       "    <tr>\n",
       "      <th>16</th>\n",
       "      <td>Helena</td>\n",
       "      <td>9.00</td>\n",
       "      <td>36.0</td>\n",
       "    </tr>\n",
       "    <tr>\n",
       "      <th>17</th>\n",
       "      <td>Ismat</td>\n",
       "      <td>6.00</td>\n",
       "      <td>35.0</td>\n",
       "    </tr>\n",
       "    <tr>\n",
       "      <th>18</th>\n",
       "      <td>Anila</td>\n",
       "      <td>10.00</td>\n",
       "      <td>48.0</td>\n",
       "    </tr>\n",
       "    <tr>\n",
       "      <th>19</th>\n",
       "      <td>Skye</td>\n",
       "      <td>12.00</td>\n",
       "      <td>52.0</td>\n",
       "    </tr>\n",
       "    <tr>\n",
       "      <th>20</th>\n",
       "      <td>Daniel</td>\n",
       "      <td>12.50</td>\n",
       "      <td>63.0</td>\n",
       "    </tr>\n",
       "    <tr>\n",
       "      <th>21</th>\n",
       "      <td>Aisha</td>\n",
       "      <td>12.00</td>\n",
       "      <td>64.0</td>\n",
       "    </tr>\n",
       "    <tr>\n",
       "      <th>22</th>\n",
       "      <td>Bill</td>\n",
       "      <td>8.00</td>\n",
       "      <td>NaN</td>\n",
       "    </tr>\n",
       "    <tr>\n",
       "      <th>23</th>\n",
       "      <td>Ted</td>\n",
       "      <td>NaN</td>\n",
       "      <td>NaN</td>\n",
       "    </tr>\n",
       "  </tbody>\n",
       "</table>\n",
       "</div>"
      ],
      "text/plain": [
       "         Name  StudyHours  Grade\n",
       "0         Dan       10.00   50.0\n",
       "1       Joann       11.50   50.0\n",
       "2       Pedro        9.00   47.0\n",
       "3       Rosie       16.00   97.0\n",
       "4       Ethan        9.25   49.0\n",
       "5       Vicky        1.00    3.0\n",
       "6    Frederic       11.50   53.0\n",
       "7      Jimmie        9.00   42.0\n",
       "8      Rhonda        8.50   26.0\n",
       "9    Giovanni       14.50   74.0\n",
       "10  Francesca       15.50   82.0\n",
       "11      Rajab       13.75   62.0\n",
       "12    Naiyana        9.00   37.0\n",
       "13       Kian        8.00   15.0\n",
       "14      Jenny       15.50   70.0\n",
       "15     Jakeem        8.00   27.0\n",
       "16     Helena        9.00   36.0\n",
       "17      Ismat        6.00   35.0\n",
       "18      Anila       10.00   48.0\n",
       "19       Skye       12.00   52.0\n",
       "20     Daniel       12.50   63.0\n",
       "21      Aisha       12.00   64.0\n",
       "22       Bill        8.00    NaN\n",
       "23        Ted         NaN    NaN"
      ]
     },
     "execution_count": 15,
     "metadata": {},
     "output_type": "execute_result"
    }
   ],
   "source": [
    "df_students"
   ]
  },
  {
   "cell_type": "code",
   "execution_count": 16,
   "id": "3464a7e0",
   "metadata": {},
   "outputs": [
    {
     "data": {
      "application/vnd.microsoft.datawrangler.viewer.v0+json": {
       "columns": [
        {
         "name": "index",
         "rawType": "object",
         "type": "string"
        },
        {
         "name": "0",
         "rawType": "int64",
         "type": "integer"
        }
       ],
       "ref": "6cdbb667-800b-4823-89cf-18c8607c7a9f",
       "rows": [
        [
         "Name",
         "0"
        ],
        [
         "StudyHours",
         "1"
        ],
        [
         "Grade",
         "2"
        ]
       ],
       "shape": {
        "columns": 1,
        "rows": 3
       }
      },
      "text/plain": [
       "Name          0\n",
       "StudyHours    1\n",
       "Grade         2\n",
       "dtype: int64"
      ]
     },
     "execution_count": 16,
     "metadata": {},
     "output_type": "execute_result"
    }
   ],
   "source": [
    "df_students.isnull().sum()"
   ]
  },
  {
   "cell_type": "markdown",
   "id": "d6f0e8e5",
   "metadata": {},
   "source": [
    "Replace Missing value with Avg Value."
   ]
  },
  {
   "cell_type": "code",
   "execution_count": 17,
   "id": "da79e1c7",
   "metadata": {},
   "outputs": [],
   "source": [
    "df_students.StudyHours = df_students.StudyHours.fillna(df_students.StudyHours.mean())"
   ]
  },
  {
   "cell_type": "code",
   "execution_count": 18,
   "id": "9b10fc2b",
   "metadata": {},
   "outputs": [
    {
     "data": {
      "application/vnd.microsoft.datawrangler.viewer.v0+json": {
       "columns": [
        {
         "name": "index",
         "rawType": "object",
         "type": "string"
        },
        {
         "name": "0",
         "rawType": "int64",
         "type": "integer"
        }
       ],
       "ref": "5fa812b5-de91-4001-ac01-00339cf33a07",
       "rows": [
        [
         "Name",
         "0"
        ],
        [
         "StudyHours",
         "0"
        ],
        [
         "Grade",
         "2"
        ]
       ],
       "shape": {
        "columns": 1,
        "rows": 3
       }
      },
      "text/plain": [
       "Name          0\n",
       "StudyHours    0\n",
       "Grade         2\n",
       "dtype: int64"
      ]
     },
     "execution_count": 18,
     "metadata": {},
     "output_type": "execute_result"
    }
   ],
   "source": [
    "df_students.isnull().sum()"
   ]
  },
  {
   "cell_type": "code",
   "execution_count": 19,
   "id": "e195a800",
   "metadata": {},
   "outputs": [],
   "source": [
    "df_students = df_students.dropna(axis=0)"
   ]
  },
  {
   "cell_type": "code",
   "execution_count": 20,
   "id": "1dcd1125",
   "metadata": {},
   "outputs": [
    {
     "data": {
      "application/vnd.microsoft.datawrangler.viewer.v0+json": {
       "columns": [
        {
         "name": "index",
         "rawType": "object",
         "type": "string"
        },
        {
         "name": "0",
         "rawType": "int64",
         "type": "integer"
        }
       ],
       "ref": "32f72b9d-484b-4af8-95ee-8ecbba5d395b",
       "rows": [
        [
         "Name",
         "0"
        ],
        [
         "StudyHours",
         "0"
        ],
        [
         "Grade",
         "0"
        ]
       ],
       "shape": {
        "columns": 1,
        "rows": 3
       }
      },
      "text/plain": [
       "Name          0\n",
       "StudyHours    0\n",
       "Grade         0\n",
       "dtype: int64"
      ]
     },
     "execution_count": 20,
     "metadata": {},
     "output_type": "execute_result"
    }
   ],
   "source": [
    "df_students.isnull().sum()"
   ]
  },
  {
   "cell_type": "code",
   "execution_count": 21,
   "id": "5ccb3606",
   "metadata": {},
   "outputs": [
    {
     "name": "stdout",
     "output_type": "stream",
     "text": [
      "Avg weekly study hours: 10.52 \n",
      "Avg grade: 49.18\n"
     ]
    }
   ],
   "source": [
    "# Get the mean study hours using ColName as an index\n",
    "mean_study = df_students['StudyHours'].mean()\n",
    "\n",
    "# Get the mean grade using the ColName as a property\n",
    "mean_grade = df_students.Grade.mean()\n",
    "\n",
    "# Print the mean study hours and mean grade\n",
    "print('Avg weekly study hours: {:.2f} \\nAvg grade: {:.2f}'.format(mean_study, mean_grade))"
   ]
  },
  {
   "cell_type": "code",
   "execution_count": 22,
   "id": "e4a7c396",
   "metadata": {},
   "outputs": [
    {
     "data": {
      "application/vnd.microsoft.datawrangler.viewer.v0+json": {
       "columns": [
        {
         "name": "index",
         "rawType": "int64",
         "type": "integer"
        },
        {
         "name": "Name",
         "rawType": "object",
         "type": "string"
        },
        {
         "name": "StudyHours",
         "rawType": "float64",
         "type": "float"
        },
        {
         "name": "Grade",
         "rawType": "float64",
         "type": "float"
        }
       ],
       "ref": "dada1978-b4a1-4457-a4cd-30a83d34e958",
       "rows": [
        [
         "1",
         "Joann",
         "11.5",
         "50.0"
        ],
        [
         "3",
         "Rosie",
         "16.0",
         "97.0"
        ],
        [
         "6",
         "Frederic",
         "11.5",
         "53.0"
        ],
        [
         "9",
         "Giovanni",
         "14.5",
         "74.0"
        ],
        [
         "10",
         "Francesca",
         "15.5",
         "82.0"
        ],
        [
         "11",
         "Rajab",
         "13.75",
         "62.0"
        ],
        [
         "14",
         "Jenny",
         "15.5",
         "70.0"
        ],
        [
         "19",
         "Skye",
         "12.0",
         "52.0"
        ],
        [
         "20",
         "Daniel",
         "12.5",
         "63.0"
        ],
        [
         "21",
         "Aisha",
         "12.0",
         "64.0"
        ]
       ],
       "shape": {
        "columns": 3,
        "rows": 10
       }
      },
      "text/html": [
       "<div>\n",
       "<style scoped>\n",
       "    .dataframe tbody tr th:only-of-type {\n",
       "        vertical-align: middle;\n",
       "    }\n",
       "\n",
       "    .dataframe tbody tr th {\n",
       "        vertical-align: top;\n",
       "    }\n",
       "\n",
       "    .dataframe thead th {\n",
       "        text-align: right;\n",
       "    }\n",
       "</style>\n",
       "<table border=\"1\" class=\"dataframe\">\n",
       "  <thead>\n",
       "    <tr style=\"text-align: right;\">\n",
       "      <th></th>\n",
       "      <th>Name</th>\n",
       "      <th>StudyHours</th>\n",
       "      <th>Grade</th>\n",
       "    </tr>\n",
       "  </thead>\n",
       "  <tbody>\n",
       "    <tr>\n",
       "      <th>1</th>\n",
       "      <td>Joann</td>\n",
       "      <td>11.50</td>\n",
       "      <td>50.0</td>\n",
       "    </tr>\n",
       "    <tr>\n",
       "      <th>3</th>\n",
       "      <td>Rosie</td>\n",
       "      <td>16.00</td>\n",
       "      <td>97.0</td>\n",
       "    </tr>\n",
       "    <tr>\n",
       "      <th>6</th>\n",
       "      <td>Frederic</td>\n",
       "      <td>11.50</td>\n",
       "      <td>53.0</td>\n",
       "    </tr>\n",
       "    <tr>\n",
       "      <th>9</th>\n",
       "      <td>Giovanni</td>\n",
       "      <td>14.50</td>\n",
       "      <td>74.0</td>\n",
       "    </tr>\n",
       "    <tr>\n",
       "      <th>10</th>\n",
       "      <td>Francesca</td>\n",
       "      <td>15.50</td>\n",
       "      <td>82.0</td>\n",
       "    </tr>\n",
       "    <tr>\n",
       "      <th>11</th>\n",
       "      <td>Rajab</td>\n",
       "      <td>13.75</td>\n",
       "      <td>62.0</td>\n",
       "    </tr>\n",
       "    <tr>\n",
       "      <th>14</th>\n",
       "      <td>Jenny</td>\n",
       "      <td>15.50</td>\n",
       "      <td>70.0</td>\n",
       "    </tr>\n",
       "    <tr>\n",
       "      <th>19</th>\n",
       "      <td>Skye</td>\n",
       "      <td>12.00</td>\n",
       "      <td>52.0</td>\n",
       "    </tr>\n",
       "    <tr>\n",
       "      <th>20</th>\n",
       "      <td>Daniel</td>\n",
       "      <td>12.50</td>\n",
       "      <td>63.0</td>\n",
       "    </tr>\n",
       "    <tr>\n",
       "      <th>21</th>\n",
       "      <td>Aisha</td>\n",
       "      <td>12.00</td>\n",
       "      <td>64.0</td>\n",
       "    </tr>\n",
       "  </tbody>\n",
       "</table>\n",
       "</div>"
      ],
      "text/plain": [
       "         Name  StudyHours  Grade\n",
       "1       Joann       11.50   50.0\n",
       "3       Rosie       16.00   97.0\n",
       "6    Frederic       11.50   53.0\n",
       "9    Giovanni       14.50   74.0\n",
       "10  Francesca       15.50   82.0\n",
       "11      Rajab       13.75   62.0\n",
       "14      Jenny       15.50   70.0\n",
       "19       Skye       12.00   52.0\n",
       "20     Daniel       12.50   63.0\n",
       "21      Aisha       12.00   64.0"
      ]
     },
     "execution_count": 22,
     "metadata": {},
     "output_type": "execute_result"
    }
   ],
   "source": [
    "# Get the students who studied for the mean or more hours\n",
    "df_students[df_students.StudyHours > mean_study]"
   ]
  },
  {
   "cell_type": "code",
   "execution_count": 23,
   "id": "3e0ddd2d",
   "metadata": {},
   "outputs": [
    {
     "data": {
      "text/plain": [
       "np.float64(66.7)"
      ]
     },
     "execution_count": 23,
     "metadata": {},
     "output_type": "execute_result"
    }
   ],
   "source": [
    "# What was their mean grade?\n",
    "df_students[df_students.StudyHours > mean_study].Grade.mean()"
   ]
  },
  {
   "cell_type": "code",
   "execution_count": 24,
   "id": "2d1e81d9",
   "metadata": {},
   "outputs": [],
   "source": [
    "passed = pd.Series(df_students['Grade'] >= 60)\n",
    "df_students = pd.concat([df_students, passed.rename(\"Passed\")], axis=1)\n",
    "\n",
    "# Axis -> Rows - 0, Col - 1"
   ]
  },
  {
   "cell_type": "code",
   "execution_count": 25,
   "id": "a32c8306",
   "metadata": {},
   "outputs": [
    {
     "data": {
      "application/vnd.microsoft.datawrangler.viewer.v0+json": {
       "columns": [
        {
         "name": "Passed",
         "rawType": "bool",
         "type": "boolean"
        },
        {
         "name": "Name",
         "rawType": "int64",
         "type": "integer"
        }
       ],
       "ref": "9fbf92b7-1f04-4cdf-88a9-6cee150a8b5d",
       "rows": [
        [
         "False",
         "15"
        ],
        [
         "True",
         "7"
        ]
       ],
       "shape": {
        "columns": 1,
        "rows": 2
       }
      },
      "text/plain": [
       "Passed\n",
       "False    15\n",
       "True      7\n",
       "Name: Name, dtype: int64"
      ]
     },
     "execution_count": 25,
     "metadata": {},
     "output_type": "execute_result"
    }
   ],
   "source": [
    "df_students.groupby(df_students.Passed).Name.count()\n"
   ]
  },
  {
   "cell_type": "code",
   "execution_count": 26,
   "id": "b0841dbb",
   "metadata": {},
   "outputs": [
    {
     "data": {
      "application/vnd.microsoft.datawrangler.viewer.v0+json": {
       "columns": [
        {
         "name": "Passed",
         "rawType": "bool",
         "type": "boolean"
        },
        {
         "name": "Name",
         "rawType": "int64",
         "type": "integer"
        },
        {
         "name": "StudyHours",
         "rawType": "int64",
         "type": "integer"
        },
        {
         "name": "Grade",
         "rawType": "int64",
         "type": "integer"
        }
       ],
       "ref": "38844c2d-473e-4883-8cd2-2886bead96f9",
       "rows": [
        [
         "False",
         "15",
         "15",
         "15"
        ],
        [
         "True",
         "7",
         "7",
         "7"
        ]
       ],
       "shape": {
        "columns": 3,
        "rows": 2
       }
      },
      "text/html": [
       "<div>\n",
       "<style scoped>\n",
       "    .dataframe tbody tr th:only-of-type {\n",
       "        vertical-align: middle;\n",
       "    }\n",
       "\n",
       "    .dataframe tbody tr th {\n",
       "        vertical-align: top;\n",
       "    }\n",
       "\n",
       "    .dataframe thead th {\n",
       "        text-align: right;\n",
       "    }\n",
       "</style>\n",
       "<table border=\"1\" class=\"dataframe\">\n",
       "  <thead>\n",
       "    <tr style=\"text-align: right;\">\n",
       "      <th></th>\n",
       "      <th>Name</th>\n",
       "      <th>StudyHours</th>\n",
       "      <th>Grade</th>\n",
       "    </tr>\n",
       "    <tr>\n",
       "      <th>Passed</th>\n",
       "      <th></th>\n",
       "      <th></th>\n",
       "      <th></th>\n",
       "    </tr>\n",
       "  </thead>\n",
       "  <tbody>\n",
       "    <tr>\n",
       "      <th>False</th>\n",
       "      <td>15</td>\n",
       "      <td>15</td>\n",
       "      <td>15</td>\n",
       "    </tr>\n",
       "    <tr>\n",
       "      <th>True</th>\n",
       "      <td>7</td>\n",
       "      <td>7</td>\n",
       "      <td>7</td>\n",
       "    </tr>\n",
       "  </tbody>\n",
       "</table>\n",
       "</div>"
      ],
      "text/plain": [
       "        Name  StudyHours  Grade\n",
       "Passed                         \n",
       "False     15          15     15\n",
       "True       7           7      7"
      ]
     },
     "execution_count": 26,
     "metadata": {},
     "output_type": "execute_result"
    }
   ],
   "source": [
    "df_students.groupby(df_students.Passed).count()"
   ]
  },
  {
   "cell_type": "code",
   "execution_count": 27,
   "id": "7a4c54ae",
   "metadata": {},
   "outputs": [
    {
     "name": "stdout",
     "output_type": "stream",
     "text": [
      "Passed\n",
      "False    38.000000\n",
      "True     73.142857\n",
      "Name: Grade, dtype: float64\n"
     ]
    }
   ],
   "source": [
    "print(df_students.groupby(df_students.Passed).Grade.mean())"
   ]
  },
  {
   "cell_type": "code",
   "execution_count": 28,
   "id": "08a8c7fe",
   "metadata": {},
   "outputs": [],
   "source": [
    "# df_students.groupby(df_students.Passed)['StudyHours', 'Grade'].mean()\n",
    "df_students = df_students.sort_values('Grade', ascending=False)"
   ]
  },
  {
   "cell_type": "code",
   "execution_count": 29,
   "id": "a2cf2ed9",
   "metadata": {},
   "outputs": [
    {
     "name": "stderr",
     "output_type": "stream",
     "text": [
      "'wget' is not recognized as an internal or external command,\n",
      "operable program or batch file.\n"
     ]
    },
    {
     "data": {
      "application/vnd.microsoft.datawrangler.viewer.v0+json": {
       "columns": [
        {
         "name": "index",
         "rawType": "int64",
         "type": "integer"
        },
        {
         "name": "Name",
         "rawType": "object",
         "type": "string"
        },
        {
         "name": "StudyHours",
         "rawType": "float64",
         "type": "float"
        },
        {
         "name": "Grade",
         "rawType": "float64",
         "type": "float"
        },
        {
         "name": "Passed",
         "rawType": "bool",
         "type": "boolean"
        },
        {
         "name": "Pass",
         "rawType": "bool",
         "type": "boolean"
        }
       ],
       "ref": "6bfc77e7-1376-4c39-9766-c9842c2e4ad3",
       "rows": [
        [
         "3",
         "Rosie",
         "16.0",
         "97.0",
         "True",
         "True"
        ],
        [
         "10",
         "Francesca",
         "15.5",
         "82.0",
         "True",
         "True"
        ],
        [
         "9",
         "Giovanni",
         "14.5",
         "74.0",
         "True",
         "True"
        ],
        [
         "14",
         "Jenny",
         "15.5",
         "70.0",
         "True",
         "True"
        ],
        [
         "21",
         "Aisha",
         "12.0",
         "64.0",
         "True",
         "True"
        ],
        [
         "20",
         "Daniel",
         "12.5",
         "63.0",
         "True",
         "True"
        ],
        [
         "11",
         "Rajab",
         "13.75",
         "62.0",
         "True",
         "True"
        ],
        [
         "6",
         "Frederic",
         "11.5",
         "53.0",
         "False",
         "False"
        ],
        [
         "19",
         "Skye",
         "12.0",
         "52.0",
         "False",
         "False"
        ],
        [
         "1",
         "Joann",
         "11.5",
         "50.0",
         "False",
         "False"
        ],
        [
         "0",
         "Dan",
         "10.0",
         "50.0",
         "False",
         "False"
        ],
        [
         "4",
         "Ethan",
         "9.25",
         "49.0",
         "False",
         "False"
        ],
        [
         "18",
         "Anila",
         "10.0",
         "48.0",
         "False",
         "False"
        ],
        [
         "2",
         "Pedro",
         "9.0",
         "47.0",
         "False",
         "False"
        ],
        [
         "7",
         "Jimmie",
         "9.0",
         "42.0",
         "False",
         "False"
        ],
        [
         "12",
         "Naiyana",
         "9.0",
         "37.0",
         "False",
         "False"
        ],
        [
         "16",
         "Helena",
         "9.0",
         "36.0",
         "False",
         "False"
        ],
        [
         "17",
         "Ismat",
         "6.0",
         "35.0",
         "False",
         "False"
        ],
        [
         "15",
         "Jakeem",
         "8.0",
         "27.0",
         "False",
         "False"
        ],
        [
         "8",
         "Rhonda",
         "8.5",
         "26.0",
         "False",
         "False"
        ],
        [
         "13",
         "Kian",
         "8.0",
         "15.0",
         "False",
         "False"
        ],
        [
         "5",
         "Vicky",
         "1.0",
         "3.0",
         "False",
         "False"
        ]
       ],
       "shape": {
        "columns": 5,
        "rows": 22
       }
      },
      "text/html": [
       "<div>\n",
       "<style scoped>\n",
       "    .dataframe tbody tr th:only-of-type {\n",
       "        vertical-align: middle;\n",
       "    }\n",
       "\n",
       "    .dataframe tbody tr th {\n",
       "        vertical-align: top;\n",
       "    }\n",
       "\n",
       "    .dataframe thead th {\n",
       "        text-align: right;\n",
       "    }\n",
       "</style>\n",
       "<table border=\"1\" class=\"dataframe\">\n",
       "  <thead>\n",
       "    <tr style=\"text-align: right;\">\n",
       "      <th></th>\n",
       "      <th>Name</th>\n",
       "      <th>StudyHours</th>\n",
       "      <th>Grade</th>\n",
       "      <th>Passed</th>\n",
       "      <th>Pass</th>\n",
       "    </tr>\n",
       "  </thead>\n",
       "  <tbody>\n",
       "    <tr>\n",
       "      <th>3</th>\n",
       "      <td>Rosie</td>\n",
       "      <td>16.00</td>\n",
       "      <td>97.0</td>\n",
       "      <td>True</td>\n",
       "      <td>True</td>\n",
       "    </tr>\n",
       "    <tr>\n",
       "      <th>10</th>\n",
       "      <td>Francesca</td>\n",
       "      <td>15.50</td>\n",
       "      <td>82.0</td>\n",
       "      <td>True</td>\n",
       "      <td>True</td>\n",
       "    </tr>\n",
       "    <tr>\n",
       "      <th>9</th>\n",
       "      <td>Giovanni</td>\n",
       "      <td>14.50</td>\n",
       "      <td>74.0</td>\n",
       "      <td>True</td>\n",
       "      <td>True</td>\n",
       "    </tr>\n",
       "    <tr>\n",
       "      <th>14</th>\n",
       "      <td>Jenny</td>\n",
       "      <td>15.50</td>\n",
       "      <td>70.0</td>\n",
       "      <td>True</td>\n",
       "      <td>True</td>\n",
       "    </tr>\n",
       "    <tr>\n",
       "      <th>21</th>\n",
       "      <td>Aisha</td>\n",
       "      <td>12.00</td>\n",
       "      <td>64.0</td>\n",
       "      <td>True</td>\n",
       "      <td>True</td>\n",
       "    </tr>\n",
       "    <tr>\n",
       "      <th>20</th>\n",
       "      <td>Daniel</td>\n",
       "      <td>12.50</td>\n",
       "      <td>63.0</td>\n",
       "      <td>True</td>\n",
       "      <td>True</td>\n",
       "    </tr>\n",
       "    <tr>\n",
       "      <th>11</th>\n",
       "      <td>Rajab</td>\n",
       "      <td>13.75</td>\n",
       "      <td>62.0</td>\n",
       "      <td>True</td>\n",
       "      <td>True</td>\n",
       "    </tr>\n",
       "    <tr>\n",
       "      <th>6</th>\n",
       "      <td>Frederic</td>\n",
       "      <td>11.50</td>\n",
       "      <td>53.0</td>\n",
       "      <td>False</td>\n",
       "      <td>False</td>\n",
       "    </tr>\n",
       "    <tr>\n",
       "      <th>19</th>\n",
       "      <td>Skye</td>\n",
       "      <td>12.00</td>\n",
       "      <td>52.0</td>\n",
       "      <td>False</td>\n",
       "      <td>False</td>\n",
       "    </tr>\n",
       "    <tr>\n",
       "      <th>1</th>\n",
       "      <td>Joann</td>\n",
       "      <td>11.50</td>\n",
       "      <td>50.0</td>\n",
       "      <td>False</td>\n",
       "      <td>False</td>\n",
       "    </tr>\n",
       "    <tr>\n",
       "      <th>0</th>\n",
       "      <td>Dan</td>\n",
       "      <td>10.00</td>\n",
       "      <td>50.0</td>\n",
       "      <td>False</td>\n",
       "      <td>False</td>\n",
       "    </tr>\n",
       "    <tr>\n",
       "      <th>4</th>\n",
       "      <td>Ethan</td>\n",
       "      <td>9.25</td>\n",
       "      <td>49.0</td>\n",
       "      <td>False</td>\n",
       "      <td>False</td>\n",
       "    </tr>\n",
       "    <tr>\n",
       "      <th>18</th>\n",
       "      <td>Anila</td>\n",
       "      <td>10.00</td>\n",
       "      <td>48.0</td>\n",
       "      <td>False</td>\n",
       "      <td>False</td>\n",
       "    </tr>\n",
       "    <tr>\n",
       "      <th>2</th>\n",
       "      <td>Pedro</td>\n",
       "      <td>9.00</td>\n",
       "      <td>47.0</td>\n",
       "      <td>False</td>\n",
       "      <td>False</td>\n",
       "    </tr>\n",
       "    <tr>\n",
       "      <th>7</th>\n",
       "      <td>Jimmie</td>\n",
       "      <td>9.00</td>\n",
       "      <td>42.0</td>\n",
       "      <td>False</td>\n",
       "      <td>False</td>\n",
       "    </tr>\n",
       "    <tr>\n",
       "      <th>12</th>\n",
       "      <td>Naiyana</td>\n",
       "      <td>9.00</td>\n",
       "      <td>37.0</td>\n",
       "      <td>False</td>\n",
       "      <td>False</td>\n",
       "    </tr>\n",
       "    <tr>\n",
       "      <th>16</th>\n",
       "      <td>Helena</td>\n",
       "      <td>9.00</td>\n",
       "      <td>36.0</td>\n",
       "      <td>False</td>\n",
       "      <td>False</td>\n",
       "    </tr>\n",
       "    <tr>\n",
       "      <th>17</th>\n",
       "      <td>Ismat</td>\n",
       "      <td>6.00</td>\n",
       "      <td>35.0</td>\n",
       "      <td>False</td>\n",
       "      <td>False</td>\n",
       "    </tr>\n",
       "    <tr>\n",
       "      <th>15</th>\n",
       "      <td>Jakeem</td>\n",
       "      <td>8.00</td>\n",
       "      <td>27.0</td>\n",
       "      <td>False</td>\n",
       "      <td>False</td>\n",
       "    </tr>\n",
       "    <tr>\n",
       "      <th>8</th>\n",
       "      <td>Rhonda</td>\n",
       "      <td>8.50</td>\n",
       "      <td>26.0</td>\n",
       "      <td>False</td>\n",
       "      <td>False</td>\n",
       "    </tr>\n",
       "    <tr>\n",
       "      <th>13</th>\n",
       "      <td>Kian</td>\n",
       "      <td>8.00</td>\n",
       "      <td>15.0</td>\n",
       "      <td>False</td>\n",
       "      <td>False</td>\n",
       "    </tr>\n",
       "    <tr>\n",
       "      <th>5</th>\n",
       "      <td>Vicky</td>\n",
       "      <td>1.00</td>\n",
       "      <td>3.0</td>\n",
       "      <td>False</td>\n",
       "      <td>False</td>\n",
       "    </tr>\n",
       "  </tbody>\n",
       "</table>\n",
       "</div>"
      ],
      "text/plain": [
       "         Name  StudyHours  Grade  Passed   Pass\n",
       "3       Rosie       16.00   97.0    True   True\n",
       "10  Francesca       15.50   82.0    True   True\n",
       "9    Giovanni       14.50   74.0    True   True\n",
       "14      Jenny       15.50   70.0    True   True\n",
       "21      Aisha       12.00   64.0    True   True\n",
       "20     Daniel       12.50   63.0    True   True\n",
       "11      Rajab       13.75   62.0    True   True\n",
       "6    Frederic       11.50   53.0   False  False\n",
       "19       Skye       12.00   52.0   False  False\n",
       "1       Joann       11.50   50.0   False  False\n",
       "0         Dan       10.00   50.0   False  False\n",
       "4       Ethan        9.25   49.0   False  False\n",
       "18      Anila       10.00   48.0   False  False\n",
       "2       Pedro        9.00   47.0   False  False\n",
       "7      Jimmie        9.00   42.0   False  False\n",
       "12    Naiyana        9.00   37.0   False  False\n",
       "16     Helena        9.00   36.0   False  False\n",
       "17      Ismat        6.00   35.0   False  False\n",
       "15     Jakeem        8.00   27.0   False  False\n",
       "8      Rhonda        8.50   26.0   False  False\n",
       "13       Kian        8.00   15.0   False  False\n",
       "5       Vicky        1.00    3.0   False  False"
      ]
     },
     "execution_count": 29,
     "metadata": {},
     "output_type": "execute_result"
    }
   ],
   "source": [
    "# Load data from a text file\n",
    "!wget https://raw.githubusercontent.com/MicrosoftDocs/mslearn-introduction-to-machine-learning/main/Data/ml-basics/grades.csv\n",
    "#df_students = pd.read_csv('grades.csv',delimiter=',',header='infer')       #uncomment this, to read csv\n",
    "\n",
    "# Remove any rows with missing data\n",
    "df_students = df_students.dropna(axis=0, how='any')\n",
    "\n",
    "# Calculate who passed, assuming 60 is the grade needed to pass\n",
    "passes = pd.Series(df_students['Grade'] >= 60)\n",
    "\n",
    "# Save who passed to the Pandas dataframe\n",
    "df_students = pd.concat([df_students, passes.rename(\"Pass\")], axis=1)\n",
    "\n",
    "# Print the result out into this notebook\n",
    "df_students"
   ]
  },
  {
   "cell_type": "code",
   "execution_count": 30,
   "id": "e6b0b808",
   "metadata": {},
   "outputs": [
    {
     "data": {
      "image/png": "[encoded data removed]",
      "text/plain": [
       "<Figure size 640x480 with 1 Axes>"
      ]
     },
     "metadata": {},
     "output_type": "display_data"
    }
   ],
   "source": [
    "from matplotlib import pyplot as plt\n",
    "\n",
    "#fig = plt.figure(figsize=(12.8,7.2))     #to change size of graph\n",
    "\n",
    "\n",
    "plt.bar(x=df_students.Name, height=df_students.Grade, color=\"Orange\")\n",
    "plt.title(\"StudentGrades\")\n",
    "plt.xlabel(\"Name\")\n",
    "plt.ylabel(\"Grade\")\n",
    "plt.xticks(rotation=90)\n",
    "\n",
    "\n",
    "plt.show()\n",
    "\n"
   ]
  },
  {
   "cell_type": "code",
   "execution_count": 31,
   "id": "8f03f5e8",
   "metadata": {},
   "outputs": [
    {
     "name": "stderr",
     "output_type": "stream",
     "text": [
      "C:\\Users\\Admin\\AppData\\Local\\Temp\\ipykernel_15212\\522105489.py:8: UserWarning: set_ticklabels() should only be used with a fixed number of ticks, i.e. after set_ticks() or using a FixedLocator.\n",
      "  ax[0].set_xticklabels(df_students.Name, rotation=90)\n",
      "C:\\Users\\Admin\\AppData\\Local\\Temp\\ipykernel_15212\\522105489.py:16: UserWarning: FigureCanvasAgg is non-interactive, and thus cannot be shown\n",
      "  fig.show()\n"
     ]
    },
    {
     "data": {
      "image/png": "[encoded data removed]",
      "text/plain": [
       "<Figure size 1000x400 with 2 Axes>"
      ]
     },
     "metadata": {},
     "output_type": "display_data"
    }
   ],
   "source": [
    "\n",
    "from matplotlib import pyplot as plt\n",
    "\n",
    "#fig = plt.figure(figsize=(12.8,7.2))     #to change size of graph\n",
    "fig, ax = plt.subplots(1, 2, figsize=(10, 4))\n",
    "\n",
    "ax[0].bar(x=df_students.Name, height=df_students.Grade, color=\"Orange\")\n",
    "ax[0].set_title(\"Student Grades\")\n",
    "ax[0].set_xticklabels(df_students.Name, rotation=90)\n",
    "\n",
    "#passes_count = df_students.Pass.value_counts()\n",
    "passes_count = df_students.groupby(df_students.Passed).Name.count()\n",
    "ax[1].pie(passes_count, labels = passes_count)\n",
    "ax[1].set_title(\"Passing Grades\")\n",
    "\n",
    "\n",
    "fig.show()"
   ]
  },
  {
   "cell_type": "code",
   "execution_count": 32,
   "id": "58b1bd49",
   "metadata": {},
   "outputs": [
    {
     "data": {
      "text/plain": [
       "<Axes: title={'center': 'Student Grades'}, xlabel='Name'>"
      ]
     },
     "execution_count": 32,
     "metadata": {},
     "output_type": "execute_result"
    },
    {
     "data": {
      "image/png": "[encoded data removed]",
      "text/plain": [
       "<Figure size 1000x400 with 1 Axes>"
      ]
     },
     "metadata": {},
     "output_type": "display_data"
    }
   ],
   "source": [
    "df_students.plot.bar(x='Name', y='Grade', color='Orange', title='Student Grades', figsize=(10, 4))"
   ]
  },
  {
   "cell_type": "code",
   "execution_count": 33,
   "id": "ffca3fda",
   "metadata": {},
   "outputs": [
    {
     "ename": "AttributeError",
     "evalue": "Figure.show works only for figures managed by pyplot, normally created by pyplot.figure()",
     "output_type": "error",
     "traceback": [
      "\u001b[31m---------------------------------------------------------------------------\u001b[39m",
      "\u001b[31mAttributeError\u001b[39m                            Traceback (most recent call last)",
      "\u001b[36mCell\u001b[39m\u001b[36m \u001b[39m\u001b[32mIn[33]\u001b[39m\u001b[32m, line 9\u001b[39m\n\u001b[32m      7\u001b[39m plt.xlabel(\u001b[33m'\u001b[39m\u001b[33mGrades\u001b[39m\u001b[33m'\u001b[39m)\n\u001b[32m      8\u001b[39m plt.ylabel(\u001b[33m'\u001b[39m\u001b[33mFrequency\u001b[39m\u001b[33m'\u001b[39m)\n\u001b[32m----> \u001b[39m\u001b[32m9\u001b[39m \u001b[43mfig\u001b[49m\u001b[43m.\u001b[49m\u001b[43mshow\u001b[49m\u001b[43m(\u001b[49m\u001b[43m)\u001b[49m\n",
      "\u001b[36mFile \u001b[39m\u001b[32m~\\AppData\\Local\\Packages\\PythonSoftwareFoundation.Python.3.11_qbz5n2kfra8p0\\LocalCache\\local-packages\\Python311\\site-packages\\matplotlib\\figure.py:2793\u001b[39m, in \u001b[36mFigure.show\u001b[39m\u001b[34m(self, warn)\u001b[39m\n\u001b[32m   2759\u001b[39m \u001b[38;5;250m\u001b[39m\u001b[33;03m\"\"\"\u001b[39;00m\n\u001b[32m   2760\u001b[39m \u001b[33;03mIf using a GUI backend with pyplot, display the figure window.\u001b[39;00m\n\u001b[32m   2761\u001b[39m \n\u001b[32m   (...)\u001b[39m\u001b[32m   2790\u001b[39m \n\u001b[32m   2791\u001b[39m \u001b[33;03m\"\"\"\u001b[39;00m\n\u001b[32m   2792\u001b[39m \u001b[38;5;28;01mif\u001b[39;00m \u001b[38;5;28mself\u001b[39m.canvas.manager \u001b[38;5;129;01mis\u001b[39;00m \u001b[38;5;28;01mNone\u001b[39;00m:\n\u001b[32m-> \u001b[39m\u001b[32m2793\u001b[39m     \u001b[38;5;28;01mraise\u001b[39;00m \u001b[38;5;167;01mAttributeError\u001b[39;00m(\n\u001b[32m   2794\u001b[39m         \u001b[33m\"\u001b[39m\u001b[33mFigure.show works only for figures managed by pyplot, \u001b[39m\u001b[33m\"\u001b[39m\n\u001b[32m   2795\u001b[39m         \u001b[33m\"\u001b[39m\u001b[33mnormally created by pyplot.figure()\u001b[39m\u001b[33m\"\u001b[39m)\n\u001b[32m   2796\u001b[39m \u001b[38;5;28;01mtry\u001b[39;00m:\n\u001b[32m   2797\u001b[39m     \u001b[38;5;28mself\u001b[39m.canvas.manager.show()\n",
      "\u001b[31mAttributeError\u001b[39m: Figure.show works only for figures managed by pyplot, normally created by pyplot.figure()"
     ]
    },
    {
     "data": {
      "image/png": "[encoded data removed]",
      "text/plain": [
       "<Figure size 640x480 with 1 Axes>"
      ]
     },
     "metadata": {},
     "output_type": "display_data"
    }
   ],
   "source": [
    "\n",
    "\n",
    "fig = plt.Figure(figsize=(10, 4))\n",
    "\n",
    "plt.hist(grades)\n",
    "#plt.hist(grades, bins=10, color='blue', edgecolor='black')\n",
    "\n",
    "plt.title('Distribution of Student Grades')\n",
    "plt.xlabel('Grades')\n",
    "plt.ylabel('Frequency')\n",
    "fig.show()"
   ]
  },
  {
   "cell_type": "code",
   "execution_count": null,
   "id": "a8a38f2b",
   "metadata": {},
   "outputs": [
    {
     "name": "stdout",
     "output_type": "stream",
     "text": [
      "Minimum:3.00\n",
      "Mean:49.18\n",
      "Median:49.50\n",
      "Mode:50.00\n",
      "Maximum:97.00\n",
      "\n"
     ]
    },
    {
     "ename": "AttributeError",
     "evalue": "Figure.show works only for figures managed by pyplot, normally created by pyplot.figure()",
     "output_type": "error",
     "traceback": [
      "\u001b[31m---------------------------------------------------------------------------\u001b[39m",
      "\u001b[31mAttributeError\u001b[39m                            Traceback (most recent call last)",
      "\u001b[36mCell\u001b[39m\u001b[36m \u001b[39m\u001b[32mIn[98]\u001b[39m\u001b[32m, line 28\u001b[39m\n\u001b[32m     26\u001b[39m plt.xlabel(\u001b[33m'\u001b[39m\u001b[33mGrades\u001b[39m\u001b[33m'\u001b[39m)\n\u001b[32m     27\u001b[39m plt.ylabel(\u001b[33m'\u001b[39m\u001b[33mFrequency\u001b[39m\u001b[33m'\u001b[39m)\n\u001b[32m---> \u001b[39m\u001b[32m28\u001b[39m \u001b[43mfig\u001b[49m\u001b[43m.\u001b[49m\u001b[43mshow\u001b[49m\u001b[43m(\u001b[49m\u001b[43m)\u001b[49m\n",
      "\u001b[36mFile \u001b[39m\u001b[32m~\\AppData\\Local\\Packages\\PythonSoftwareFoundation.Python.3.11_qbz5n2kfra8p0\\LocalCache\\local-packages\\Python311\\site-packages\\matplotlib\\figure.py:2793\u001b[39m, in \u001b[36mFigure.show\u001b[39m\u001b[34m(self, warn)\u001b[39m\n\u001b[32m   2759\u001b[39m \u001b[38;5;250m\u001b[39m\u001b[33;03m\"\"\"\u001b[39;00m\n\u001b[32m   2760\u001b[39m \u001b[33;03mIf using a GUI backend with pyplot, display the figure window.\u001b[39;00m\n\u001b[32m   2761\u001b[39m \n\u001b[32m   (...)\u001b[39m\u001b[32m   2790\u001b[39m \n\u001b[32m   2791\u001b[39m \u001b[33;03m\"\"\"\u001b[39;00m\n\u001b[32m   2792\u001b[39m \u001b[38;5;28;01mif\u001b[39;00m \u001b[38;5;28mself\u001b[39m.canvas.manager \u001b[38;5;129;01mis\u001b[39;00m \u001b[38;5;28;01mNone\u001b[39;00m:\n\u001b[32m-> \u001b[39m\u001b[32m2793\u001b[39m     \u001b[38;5;28;01mraise\u001b[39;00m \u001b[38;5;167;01mAttributeError\u001b[39;00m(\n\u001b[32m   2794\u001b[39m         \u001b[33m\"\u001b[39m\u001b[33mFigure.show works only for figures managed by pyplot, \u001b[39m\u001b[33m\"\u001b[39m\n\u001b[32m   2795\u001b[39m         \u001b[33m\"\u001b[39m\u001b[33mnormally created by pyplot.figure()\u001b[39m\u001b[33m\"\u001b[39m)\n\u001b[32m   2796\u001b[39m \u001b[38;5;28;01mtry\u001b[39;00m:\n\u001b[32m   2797\u001b[39m     \u001b[38;5;28mself\u001b[39m.canvas.manager.show()\n",
      "\u001b[31mAttributeError\u001b[39m: Figure.show works only for figures managed by pyplot, normally created by pyplot.figure()"
     ]
    },
    {
     "data": {
      "image/png": "[encoded data removed]",
      "text/plain": [
       "<Figure size 640x480 with 1 Axes>"
      ]
     },
     "metadata": {},
     "output_type": "display_data"
    }
   ],
   "source": [
    "grades = df_students.Grade\n",
    "\n",
    "min_val = df_students.Grade.min()\n",
    "max_val = df_students.Grade.max()\n",
    "mean_val = df_students.Grade.mean()\n",
    "median_val = df_students.Grade.median()\n",
    "mode_val = df_students.Grade.mode().values[0]\n",
    "\n",
    "print('Minimum:{:.2f}\\nMean:{:.2f}\\nMedian:{:.2f}\\nMode:{:.2f}\\nMaximum:{:.2f}\\n'.format(min_val,\n",
    "                                                                                         mean_val,\n",
    "                                                                                         median_val,\n",
    "                                                                                         mode_val,\n",
    "                                                                                         max_val))\n",
    "plt.axvline(min_val, color='grey', linestyle='dashed', linewidth=1)\n",
    "plt.axvline(max_val, color='blue', linestyle='dashed', linewidth=1)\n",
    "plt.axvline(mean_val, color='cyan', linestyle='dashed', linewidth=1)\n",
    "plt.axvline(median_val, color='red', linestyle='dashed', linewidth=1)\n",
    "plt.axvline(mode_val, color='yellow', linestyle='dashed', linewidth=1)\n",
    "\n",
    "fig = plt.Figure(figsize=(10, 4))\n",
    "\n",
    "plt.hist(grades)\n",
    "#plt.hist(grades, bins=10, color='blue', edgecolor='black')\n",
    "\n",
    "plt.title('Distribution of Student Grades')\n",
    "plt.xlabel('Grades')\n",
    "plt.ylabel('Frequency')\n",
    "fig.show()"
   ]
  },
  {
   "cell_type": "code",
   "execution_count": null,
   "id": "67700409",
   "metadata": {},
   "outputs": [
    {
     "data": {
      "image/png": "[encoded data removed]",
      "text/plain": [
       "<Figure size 640x480 with 1 Axes>"
      ]
     },
     "metadata": {},
     "output_type": "display_data"
    }
   ],
   "source": [
    "grades = df_students['Grade']\n",
    "fig = plt.Figure(figsize=(10, 4))\n",
    "plt.boxplot(grades)\n",
    "plt.title('Boxplot of Student Grades')\n",
    "plt.show()"
   ]
  },
  {
   "cell_type": "code",
   "execution_count": null,
   "id": "cfd02105",
   "metadata": {},
   "outputs": [
    {
     "name": "stdout",
     "output_type": "stream",
     "text": [
      "Minimum:3.00\n",
      "Mean:49.18\n",
      "Median:49.50\n",
      "Mode:50.00\n",
      "Maximum:97.00\n",
      "\n"
     ]
    },
    {
     "name": "stderr",
     "output_type": "stream",
     "text": [
      "C:\\Users\\Admin\\AppData\\Local\\Temp\\ipykernel_12868\\1295439967.py:46: UserWarning: FigureCanvasAgg is non-interactive, and thus cannot be shown\n",
      "  fig.show()\n"
     ]
    },
    {
     "data": {
      "image/png": "[encoded data removed]",
      "text/plain": [
       "<Figure size 1200x600 with 3 Axes>"
      ]
     },
     "metadata": {},
     "output_type": "display_data"
    }
   ],
   "source": [
    "# Create a function that we can re-use\n",
    "def show_distribution(var_data):\n",
    "    '''\n",
    "    This function will make a distribution (graph) and display it\n",
    "    '''\n",
    "\n",
    "    # Get statistics\n",
    "    min_val = var_data.min()\n",
    "    max_val = var_data.max()\n",
    "    mean_val = var_data.mean()\n",
    "    med_val = var_data.median()\n",
    "    mod_val = var_data.mode()[0]\n",
    "\n",
    "    print('Minimum:{:.2f}\\nMean:{:.2f}\\nMedian:{:.2f}\\nMode:{:.2f}\\nMaximum:{:.2f}\\n'.format(min_val,\n",
    "                                                                                            mean_val,\n",
    "                                                                                            med_val,\n",
    "                                                                                            mod_val,\n",
    "                                                                                            max_val))\n",
    "\n",
    "    # Create a figure for 2 subplots (3 rows, 1 column)\n",
    "    fig, ax = plt.subplots(3, 1, figsize = (12,6))\n",
    "\n",
    "    # Plot the histogram   \n",
    "    ax[0].hist(var_data)\n",
    "    ax[0].set_ylabel('Frequency')\n",
    "\n",
    "    # Add lines for the mean, median, and mode\n",
    "    ax[0].axvline(x=min_val, color = 'gray', linestyle='dashed', linewidth = 2)\n",
    "    ax[0].axvline(x=mean_val, color = 'cyan', linestyle='dashed', linewidth = 2)\n",
    "    ax[0].axvline(x=med_val, color = 'red', linestyle='dashed', linewidth = 2)\n",
    "    ax[0].axvline(x=mod_val, color = 'yellow', linestyle='dashed', linewidth = 2)\n",
    "    ax[0].axvline(x=max_val, color = 'gray', linestyle='dashed', linewidth = 2)\n",
    "\n",
    "    # Plot the boxplot   \n",
    "    ax[1].boxplot(var_data)\n",
    "    ax[1].set_xlabel('Value')\n",
    "\n",
    "    # Plot the boxplot vertically  \n",
    "    ax[2].boxplot(var_data, vert=False)\n",
    "    ax[2].set_xlabel('Value')\n",
    "\n",
    "    # Add a title to the Figure\n",
    "    fig.suptitle('Data Distribution')\n",
    "\n",
    "    # Show the figure\n",
    "    fig.show()\n",
    "\n",
    "\n",
    "show_distribution(df_students['Grade'])"
   ]
  },
  {
   "cell_type": "code",
   "execution_count": null,
   "id": "6e59c152",
   "metadata": {},
   "outputs": [
    {
     "data": {
      "image/png": "[encoded data removed]",
      "text/plain": [
       "<Figure size 1200x600 with 1 Axes>"
      ]
     },
     "metadata": {},
     "output_type": "display_data"
    }
   ],
   "source": [
    "def show_density(var_data):\n",
    "    '''\n",
    "    This function will make a density plot (graph) and display it\n",
    "    '''\n",
    "\n",
    "    # Create a figure\n",
    "    plt.figure(figsize=(12, 6))\n",
    "\n",
    "    # Plot the density\n",
    "    var_data.plot.density()\n",
    "\n",
    "    # Add labels and title\n",
    "    plt.xlabel('Value')\n",
    "    plt.ylabel('Density')\n",
    "    plt.title('Density Plot')\n",
    "\n",
    "    # Show the mean, median, and mode\n",
    "    plt.axvline(x=var_data.mean(), color = 'cyan', linestyle='dashed', linewidth = 2)\n",
    "    plt.axvline(x=var_data.median(), color = 'red', linestyle='dashed', linewidth = 2)\n",
    "    plt.axvline(x=var_data.mode()[0], color = 'yellow', linestyle='dashed', linewidth = 2)\n",
    "\n",
    "    # Show the plot\n",
    "    plt.show()\n",
    "\n",
    "show_density(df_students.Grade)"
   ]
  },
  {
   "cell_type": "code",
   "execution_count": null,
   "id": "0deac9df",
   "metadata": {},
   "outputs": [
    {
     "name": "stdout",
     "output_type": "stream",
     "text": [
      "1.16.1\n"
     ]
    }
   ],
   "source": [
    "import scipy\n",
    "print(scipy.__version__)"
   ]
  },
  {
   "cell_type": "code",
   "execution_count": null,
   "id": "920e1a11",
   "metadata": {},
   "outputs": [
    {
     "name": "stdout",
     "output_type": "stream",
     "text": [
      "Minimum:1.00\n",
      "Mean:10.52\n",
      "Median:10.00\n",
      "Mode:9.00\n",
      "Maximum:16.00\n",
      "\n"
     ]
    },
    {
     "name": "stderr",
     "output_type": "stream",
     "text": [
      "C:\\Users\\Admin\\AppData\\Local\\Temp\\ipykernel_12868\\1295439967.py:46: UserWarning: FigureCanvasAgg is non-interactive, and thus cannot be shown\n",
      "  fig.show()\n"
     ]
    },
    {
     "data": {
      "image/png": "[encoded data removed]",
      "text/plain": [
       "<Figure size 1200x600 with 3 Axes>"
      ]
     },
     "metadata": {},
     "output_type": "display_data"
    }
   ],
   "source": [
    "show_distribution(df_students.StudyHours)"
   ]
  },
  {
   "cell_type": "markdown",
   "id": "1a36d82c",
   "metadata": {},
   "source": [
    "Remove Statistical Outliers from df_students.StudyHours"
   ]
  },
  {
   "cell_type": "code",
   "execution_count": null,
   "id": "3046b7c2",
   "metadata": {},
   "outputs": [
    {
     "name": "stdout",
     "output_type": "stream",
     "text": [
      "Minimum:6.00\n",
      "Mean:10.98\n",
      "Median:10.00\n",
      "Mode:9.00\n",
      "Maximum:16.00\n",
      "\n"
     ]
    },
    {
     "name": "stderr",
     "output_type": "stream",
     "text": [
      "C:\\Users\\Admin\\AppData\\Local\\Temp\\ipykernel_12868\\1295439967.py:46: UserWarning: FigureCanvasAgg is non-interactive, and thus cannot be shown\n",
      "  fig.show()\n"
     ]
    },
    {
     "data": {
      "image/png": "[encoded data removed]",
      "text/plain": [
       "<Figure size 1200x600 with 3 Axes>"
      ]
     },
     "metadata": {},
     "output_type": "display_data"
    }
   ],
   "source": [
    "col = df_students[df_students.StudyHours > 1]['StudyHours']\n",
    "show_distribution(col)"
   ]
  },
  {
   "cell_type": "markdown",
   "id": "0a76bd3c",
   "metadata": {},
   "source": [
    "Generally, Data Scientist do not want to remove Statistical Outliers, rather they want to explain why they are there."
   ]
  },
  {
   "cell_type": "markdown",
   "id": "b8f896b9",
   "metadata": {},
   "source": [
    "Distribution Function"
   ]
  },
  {
   "cell_type": "code",
   "execution_count": null,
   "id": "1bde1a79",
   "metadata": {},
   "outputs": [
    {
     "data": {
      "image/png": "[encoded data removed]",
      "text/plain": [
       "<Figure size 1200x600 with 1 Axes>"
      ]
     },
     "metadata": {},
     "output_type": "display_data"
    }
   ],
   "source": [
    "# Get the density of StudyHours -> Right Side Skewed\n",
    "show_density(col)"
   ]
  },
  {
   "cell_type": "code",
   "execution_count": null,
   "id": "9d40e4bf",
   "metadata": {},
   "outputs": [
    {
     "name": "stdout",
     "output_type": "stream",
     "text": [
      "11.607438016528924\n",
      "3.4069690366260925\n"
     ]
    }
   ],
   "source": [
    "import math\n",
    "\n",
    "mean = df_students.StudyHours.mean()\n",
    "variance = 0\n",
    "\n",
    "for hours in df_students.StudyHours:\n",
    "    variance += (hours - mean) ** 2\n",
    "\n",
    "variance /= df_students.shape[0]\n",
    "\n",
    "print(variance)\n",
    "\n",
    "std = math.sqrt(variance)\n",
    "print(std)"
   ]
  },
  {
   "cell_type": "code",
   "execution_count": null,
   "id": "c7ea0480",
   "metadata": {},
   "outputs": [
    {
     "name": "stdout",
     "output_type": "stream",
     "text": [
      "\n",
      "Grade:\n",
      " - Range: 94.00\n",
      " - Variance: 472.54\n",
      " - Std.Dev: 21.74\n",
      "\n",
      "StudyHours:\n",
      " - Range: 15.00\n",
      " - Variance: 12.16\n",
      " - Std.Dev: 3.49\n"
     ]
    }
   ],
   "source": [
    "for col_name in ['Grade', 'StudyHours']:\n",
    "    col = df_students[col_name]\n",
    "    rng = col.max() - col.min()\n",
    "    var = col.var()\n",
    "    std = col.std()\n",
    "    print('\\n{}:\\n - Range: {:.2f}\\n - Variance: {:.2f}\\n - Std.Dev: {:.2f}'.format(col_name, rng, var, std))\n",
    "   "
   ]
  },
  {
   "cell_type": "code",
   "execution_count": null,
   "id": "78c914d6",
   "metadata": {},
   "outputs": [
    {
     "name": "stdout",
     "output_type": "stream",
     "text": [
      "68% of Grades will fall between 27.4439066782538 and 70.91972968538256\n",
      "68% of StudyHours will fall between 7.035583289440498 and 14.009871256014048\n"
     ]
    }
   ],
   "source": [
    "print('68% of Grades will fall between {} and {}'.format(df_students.Grade.mean() - df_students.Grade.std(), df_students.Grade.mean() + df_students.Grade.std()))\n",
    "print('68% of StudyHours will fall between {} and {}'.format(df_students.StudyHours.mean() - df_students.StudyHours.std(), df_students.StudyHours.mean() + df_students.StudyHours.std()))"
   ]
  },
  {
   "cell_type": "code",
   "execution_count": null,
   "id": "e715dfb9",
   "metadata": {},
   "outputs": [
    {
     "data": {
      "application/vnd.microsoft.datawrangler.viewer.v0+json": {
       "columns": [
        {
         "name": "index",
         "rawType": "object",
         "type": "string"
        },
        {
         "name": "StudyHours",
         "rawType": "float64",
         "type": "float"
        },
        {
         "name": "Grade",
         "rawType": "float64",
         "type": "float"
        }
       ],
       "ref": "036a854a-72b8-42cc-86b9-8c4f4fbdb80e",
       "rows": [
        [
         "count",
         "22.0",
         "22.0"
        ],
        [
         "mean",
         "10.522727272727273",
         "49.18181818181818"
        ],
        [
         "std",
         "3.487143983286775",
         "21.73791150356438"
        ],
        [
         "min",
         "1.0",
         "3.0"
        ],
        [
         "25%",
         "9.0",
         "36.25"
        ],
        [
         "50%",
         "10.0",
         "49.5"
        ],
        [
         "75%",
         "12.375",
         "62.75"
        ],
        [
         "max",
         "16.0",
         "97.0"
        ]
       ],
       "shape": {
        "columns": 2,
        "rows": 8
       }
      },
      "text/html": [
       "<div>\n",
       "<style scoped>\n",
       "    .dataframe tbody tr th:only-of-type {\n",
       "        vertical-align: middle;\n",
       "    }\n",
       "\n",
       "    .dataframe tbody tr th {\n",
       "        vertical-align: top;\n",
       "    }\n",
       "\n",
       "    .dataframe thead th {\n",
       "        text-align: right;\n",
       "    }\n",
       "</style>\n",
       "<table border=\"1\" class=\"dataframe\">\n",
       "  <thead>\n",
       "    <tr style=\"text-align: right;\">\n",
       "      <th></th>\n",
       "      <th>StudyHours</th>\n",
       "      <th>Grade</th>\n",
       "    </tr>\n",
       "  </thead>\n",
       "  <tbody>\n",
       "    <tr>\n",
       "      <th>count</th>\n",
       "      <td>22.000000</td>\n",
       "      <td>22.000000</td>\n",
       "    </tr>\n",
       "    <tr>\n",
       "      <th>mean</th>\n",
       "      <td>10.522727</td>\n",
       "      <td>49.181818</td>\n",
       "    </tr>\n",
       "    <tr>\n",
       "      <th>std</th>\n",
       "      <td>3.487144</td>\n",
       "      <td>21.737912</td>\n",
       "    </tr>\n",
       "    <tr>\n",
       "      <th>min</th>\n",
       "      <td>1.000000</td>\n",
       "      <td>3.000000</td>\n",
       "    </tr>\n",
       "    <tr>\n",
       "      <th>25%</th>\n",
       "      <td>9.000000</td>\n",
       "      <td>36.250000</td>\n",
       "    </tr>\n",
       "    <tr>\n",
       "      <th>50%</th>\n",
       "      <td>10.000000</td>\n",
       "      <td>49.500000</td>\n",
       "    </tr>\n",
       "    <tr>\n",
       "      <th>75%</th>\n",
       "      <td>12.375000</td>\n",
       "      <td>62.750000</td>\n",
       "    </tr>\n",
       "    <tr>\n",
       "      <th>max</th>\n",
       "      <td>16.000000</td>\n",
       "      <td>97.000000</td>\n",
       "    </tr>\n",
       "  </tbody>\n",
       "</table>\n",
       "</div>"
      ],
      "text/plain": [
       "       StudyHours      Grade\n",
       "count   22.000000  22.000000\n",
       "mean    10.522727  49.181818\n",
       "std      3.487144  21.737912\n",
       "min      1.000000   3.000000\n",
       "25%      9.000000  36.250000\n",
       "50%     10.000000  49.500000\n",
       "75%     12.375000  62.750000\n",
       "max     16.000000  97.000000"
      ]
     },
     "execution_count": 82,
     "metadata": {},
     "output_type": "execute_result"
    }
   ],
   "source": [
    "df_students.describe()"
   ]
  },
  {
   "cell_type": "code",
   "execution_count": 36,
   "id": "0519878d",
   "metadata": {},
   "outputs": [
    {
     "data": {
      "application/vnd.microsoft.datawrangler.viewer.v0+json": {
       "columns": [
        {
         "name": "index",
         "rawType": "int64",
         "type": "integer"
        },
        {
         "name": "Name",
         "rawType": "object",
         "type": "string"
        },
        {
         "name": "StudyHours",
         "rawType": "float64",
         "type": "float"
        },
        {
         "name": "Grade",
         "rawType": "float64",
         "type": "float"
        },
        {
         "name": "Passed",
         "rawType": "bool",
         "type": "boolean"
        },
        {
         "name": "Pass",
         "rawType": "bool",
         "type": "boolean"
        }
       ],
       "ref": "990e30b0-471c-4661-ac1f-2e8e2325f2a4",
       "rows": [
        [
         "3",
         "Rosie",
         "16.0",
         "97.0",
         "True",
         "True"
        ],
        [
         "10",
         "Francesca",
         "15.5",
         "82.0",
         "True",
         "True"
        ],
        [
         "9",
         "Giovanni",
         "14.5",
         "74.0",
         "True",
         "True"
        ],
        [
         "14",
         "Jenny",
         "15.5",
         "70.0",
         "True",
         "True"
        ],
        [
         "21",
         "Aisha",
         "12.0",
         "64.0",
         "True",
         "True"
        ],
        [
         "20",
         "Daniel",
         "12.5",
         "63.0",
         "True",
         "True"
        ],
        [
         "11",
         "Rajab",
         "13.75",
         "62.0",
         "True",
         "True"
        ],
        [
         "6",
         "Frederic",
         "11.5",
         "53.0",
         "False",
         "False"
        ],
        [
         "19",
         "Skye",
         "12.0",
         "52.0",
         "False",
         "False"
        ],
        [
         "1",
         "Joann",
         "11.5",
         "50.0",
         "False",
         "False"
        ],
        [
         "0",
         "Dan",
         "10.0",
         "50.0",
         "False",
         "False"
        ],
        [
         "4",
         "Ethan",
         "9.25",
         "49.0",
         "False",
         "False"
        ],
        [
         "18",
         "Anila",
         "10.0",
         "48.0",
         "False",
         "False"
        ],
        [
         "2",
         "Pedro",
         "9.0",
         "47.0",
         "False",
         "False"
        ],
        [
         "7",
         "Jimmie",
         "9.0",
         "42.0",
         "False",
         "False"
        ],
        [
         "12",
         "Naiyana",
         "9.0",
         "37.0",
         "False",
         "False"
        ],
        [
         "16",
         "Helena",
         "9.0",
         "36.0",
         "False",
         "False"
        ],
        [
         "17",
         "Ismat",
         "6.0",
         "35.0",
         "False",
         "False"
        ],
        [
         "15",
         "Jakeem",
         "8.0",
         "27.0",
         "False",
         "False"
        ],
        [
         "8",
         "Rhonda",
         "8.5",
         "26.0",
         "False",
         "False"
        ],
        [
         "13",
         "Kian",
         "8.0",
         "15.0",
         "False",
         "False"
        ]
       ],
       "shape": {
        "columns": 5,
        "rows": 21
       }
      },
      "text/html": [
       "<div>\n",
       "<style scoped>\n",
       "    .dataframe tbody tr th:only-of-type {\n",
       "        vertical-align: middle;\n",
       "    }\n",
       "\n",
       "    .dataframe tbody tr th {\n",
       "        vertical-align: top;\n",
       "    }\n",
       "\n",
       "    .dataframe thead th {\n",
       "        text-align: right;\n",
       "    }\n",
       "</style>\n",
       "<table border=\"1\" class=\"dataframe\">\n",
       "  <thead>\n",
       "    <tr style=\"text-align: right;\">\n",
       "      <th></th>\n",
       "      <th>Name</th>\n",
       "      <th>StudyHours</th>\n",
       "      <th>Grade</th>\n",
       "      <th>Passed</th>\n",
       "      <th>Pass</th>\n",
       "    </tr>\n",
       "  </thead>\n",
       "  <tbody>\n",
       "    <tr>\n",
       "      <th>3</th>\n",
       "      <td>Rosie</td>\n",
       "      <td>16.00</td>\n",
       "      <td>97.0</td>\n",
       "      <td>True</td>\n",
       "      <td>True</td>\n",
       "    </tr>\n",
       "    <tr>\n",
       "      <th>10</th>\n",
       "      <td>Francesca</td>\n",
       "      <td>15.50</td>\n",
       "      <td>82.0</td>\n",
       "      <td>True</td>\n",
       "      <td>True</td>\n",
       "    </tr>\n",
       "    <tr>\n",
       "      <th>9</th>\n",
       "      <td>Giovanni</td>\n",
       "      <td>14.50</td>\n",
       "      <td>74.0</td>\n",
       "      <td>True</td>\n",
       "      <td>True</td>\n",
       "    </tr>\n",
       "    <tr>\n",
       "      <th>14</th>\n",
       "      <td>Jenny</td>\n",
       "      <td>15.50</td>\n",
       "      <td>70.0</td>\n",
       "      <td>True</td>\n",
       "      <td>True</td>\n",
       "    </tr>\n",
       "    <tr>\n",
       "      <th>21</th>\n",
       "      <td>Aisha</td>\n",
       "      <td>12.00</td>\n",
       "      <td>64.0</td>\n",
       "      <td>True</td>\n",
       "      <td>True</td>\n",
       "    </tr>\n",
       "    <tr>\n",
       "      <th>20</th>\n",
       "      <td>Daniel</td>\n",
       "      <td>12.50</td>\n",
       "      <td>63.0</td>\n",
       "      <td>True</td>\n",
       "      <td>True</td>\n",
       "    </tr>\n",
       "    <tr>\n",
       "      <th>11</th>\n",
       "      <td>Rajab</td>\n",
       "      <td>13.75</td>\n",
       "      <td>62.0</td>\n",
       "      <td>True</td>\n",
       "      <td>True</td>\n",
       "    </tr>\n",
       "    <tr>\n",
       "      <th>6</th>\n",
       "      <td>Frederic</td>\n",
       "      <td>11.50</td>\n",
       "      <td>53.0</td>\n",
       "      <td>False</td>\n",
       "      <td>False</td>\n",
       "    </tr>\n",
       "    <tr>\n",
       "      <th>19</th>\n",
       "      <td>Skye</td>\n",
       "      <td>12.00</td>\n",
       "      <td>52.0</td>\n",
       "      <td>False</td>\n",
       "      <td>False</td>\n",
       "    </tr>\n",
       "    <tr>\n",
       "      <th>1</th>\n",
       "      <td>Joann</td>\n",
       "      <td>11.50</td>\n",
       "      <td>50.0</td>\n",
       "      <td>False</td>\n",
       "      <td>False</td>\n",
       "    </tr>\n",
       "    <tr>\n",
       "      <th>0</th>\n",
       "      <td>Dan</td>\n",
       "      <td>10.00</td>\n",
       "      <td>50.0</td>\n",
       "      <td>False</td>\n",
       "      <td>False</td>\n",
       "    </tr>\n",
       "    <tr>\n",
       "      <th>4</th>\n",
       "      <td>Ethan</td>\n",
       "      <td>9.25</td>\n",
       "      <td>49.0</td>\n",
       "      <td>False</td>\n",
       "      <td>False</td>\n",
       "    </tr>\n",
       "    <tr>\n",
       "      <th>18</th>\n",
       "      <td>Anila</td>\n",
       "      <td>10.00</td>\n",
       "      <td>48.0</td>\n",
       "      <td>False</td>\n",
       "      <td>False</td>\n",
       "    </tr>\n",
       "    <tr>\n",
       "      <th>2</th>\n",
       "      <td>Pedro</td>\n",
       "      <td>9.00</td>\n",
       "      <td>47.0</td>\n",
       "      <td>False</td>\n",
       "      <td>False</td>\n",
       "    </tr>\n",
       "    <tr>\n",
       "      <th>7</th>\n",
       "      <td>Jimmie</td>\n",
       "      <td>9.00</td>\n",
       "      <td>42.0</td>\n",
       "      <td>False</td>\n",
       "      <td>False</td>\n",
       "    </tr>\n",
       "    <tr>\n",
       "      <th>12</th>\n",
       "      <td>Naiyana</td>\n",
       "      <td>9.00</td>\n",
       "      <td>37.0</td>\n",
       "      <td>False</td>\n",
       "      <td>False</td>\n",
       "    </tr>\n",
       "    <tr>\n",
       "      <th>16</th>\n",
       "      <td>Helena</td>\n",
       "      <td>9.00</td>\n",
       "      <td>36.0</td>\n",
       "      <td>False</td>\n",
       "      <td>False</td>\n",
       "    </tr>\n",
       "    <tr>\n",
       "      <th>17</th>\n",
       "      <td>Ismat</td>\n",
       "      <td>6.00</td>\n",
       "      <td>35.0</td>\n",
       "      <td>False</td>\n",
       "      <td>False</td>\n",
       "    </tr>\n",
       "    <tr>\n",
       "      <th>15</th>\n",
       "      <td>Jakeem</td>\n",
       "      <td>8.00</td>\n",
       "      <td>27.0</td>\n",
       "      <td>False</td>\n",
       "      <td>False</td>\n",
       "    </tr>\n",
       "    <tr>\n",
       "      <th>8</th>\n",
       "      <td>Rhonda</td>\n",
       "      <td>8.50</td>\n",
       "      <td>26.0</td>\n",
       "      <td>False</td>\n",
       "      <td>False</td>\n",
       "    </tr>\n",
       "    <tr>\n",
       "      <th>13</th>\n",
       "      <td>Kian</td>\n",
       "      <td>8.00</td>\n",
       "      <td>15.0</td>\n",
       "      <td>False</td>\n",
       "      <td>False</td>\n",
       "    </tr>\n",
       "  </tbody>\n",
       "</table>\n",
       "</div>"
      ],
      "text/plain": [
       "         Name  StudyHours  Grade  Passed   Pass\n",
       "3       Rosie       16.00   97.0    True   True\n",
       "10  Francesca       15.50   82.0    True   True\n",
       "9    Giovanni       14.50   74.0    True   True\n",
       "14      Jenny       15.50   70.0    True   True\n",
       "21      Aisha       12.00   64.0    True   True\n",
       "20     Daniel       12.50   63.0    True   True\n",
       "11      Rajab       13.75   62.0    True   True\n",
       "6    Frederic       11.50   53.0   False  False\n",
       "19       Skye       12.00   52.0   False  False\n",
       "1       Joann       11.50   50.0   False  False\n",
       "0         Dan       10.00   50.0   False  False\n",
       "4       Ethan        9.25   49.0   False  False\n",
       "18      Anila       10.00   48.0   False  False\n",
       "2       Pedro        9.00   47.0   False  False\n",
       "7      Jimmie        9.00   42.0   False  False\n",
       "12    Naiyana        9.00   37.0   False  False\n",
       "16     Helena        9.00   36.0   False  False\n",
       "17      Ismat        6.00   35.0   False  False\n",
       "15     Jakeem        8.00   27.0   False  False\n",
       "8      Rhonda        8.50   26.0   False  False\n",
       "13       Kian        8.00   15.0   False  False"
      ]
     },
     "execution_count": 36,
     "metadata": {},
     "output_type": "execute_result"
    }
   ],
   "source": [
    "df_sample = df_students[df_students.StudyHours > 1]\n",
    "#df_sample = df_sample.drop('Passed', axis=1)\n",
    "df_sample"
   ]
  },
  {
   "cell_type": "code",
   "execution_count": 37,
   "id": "e561c1c1",
   "metadata": {},
   "outputs": [
    {
     "data": {
      "text/plain": [
       "<Axes: title={'center': 'StudyHours'}, xlabel='Pass'>"
      ]
     },
     "execution_count": 37,
     "metadata": {},
     "output_type": "execute_result"
    },
    {
     "data": {
      "image/png": "[encoded data removed]",
      "text/plain": [
       "<Figure size 800x500 with 1 Axes>"
      ]
     },
     "metadata": {},
     "output_type": "display_data"
    }
   ],
   "source": [
    "df_sample.boxplot(column='StudyHours', by='Pass', figsize=(8,5))"
   ]
  },
  {
   "cell_type": "code",
   "execution_count": 38,
   "id": "cc4368d0",
   "metadata": {},
   "outputs": [
    {
     "data": {
      "text/plain": [
       "<Axes: title={'center': 'Student Grades vs Study Hours'}, xlabel='Name'>"
      ]
     },
     "execution_count": 38,
     "metadata": {},
     "output_type": "execute_result"
    },
    {
     "data": {
      "image/png": "[encoded data removed]",
      "text/plain": [
       "<Figure size 800x500 with 1 Axes>"
      ]
     },
     "metadata": {},
     "output_type": "display_data"
    }
   ],
   "source": [
    "df_sample.plot(x='Name', y=['Grade', 'StudyHours'], kind='bar', figsize=(8, 5), title='Student Grades vs Study Hours')"
   ]
  },
  {
   "cell_type": "code",
   "execution_count": 39,
   "id": "9bbfca47",
   "metadata": {},
   "outputs": [
    {
     "data": {
      "text/plain": [
       "<Axes: title={'center': 'Normalized Student Grades vs Study Hours'}, xlabel='Name'>"
      ]
     },
     "execution_count": 39,
     "metadata": {},
     "output_type": "execute_result"
    },
    {
     "data": {
      "image/png": "[encoded data removed]",
      "text/plain": [
       "<Figure size 800x500 with 1 Axes>"
      ]
     },
     "metadata": {},
     "output_type": "display_data"
    }
   ],
   "source": [
    "from sklearn.preprocessing import MinMaxScaler\n",
    "\n",
    "scalar = MinMaxScaler()\n",
    "\n",
    "df_normalized = df_sample[['Name', 'Grade', 'StudyHours']].copy()\n",
    "\n",
    "df_normalized[['Grade', 'StudyHours']] = scalar.fit_transform(df_normalized[['Grade', 'StudyHours']])\n",
    "\n",
    "df_normalized.plot(x='Name', y=['Grade', 'StudyHours'], kind='bar', figsize=(8, 5), title='Normalized Student Grades vs Study Hours')"
   ]
  },
  {
   "cell_type": "code",
   "execution_count": 40,
   "id": "d40fcfc7",
   "metadata": {},
   "outputs": [
    {
     "data": {
      "text/plain": [
       "np.float64(0.9117666413789672)"
      ]
     },
     "execution_count": 40,
     "metadata": {},
     "output_type": "execute_result"
    }
   ],
   "source": [
    "df_normalized.Grade.corr(df_normalized.StudyHours)"
   ]
  },
  {
   "cell_type": "code",
   "execution_count": 44,
   "id": "d1730567",
   "metadata": {},
   "outputs": [
    {
     "data": {
      "text/plain": [
       "<Axes: title={'center': 'Study Hours vs Grade'}, xlabel='StudyHours', ylabel='Grade'>"
      ]
     },
     "execution_count": 44,
     "metadata": {},
     "output_type": "execute_result"
    },
    {
     "data": {
      "image/png": "[encoded data removed]",
      "text/plain": [
       "<Figure size 640x480 with 1 Axes>"
      ]
     },
     "metadata": {},
     "output_type": "display_data"
    }
   ],
   "source": [
    "df_sample.plot.scatter(x='StudyHours', y='Grade', title='Study Hours vs Grade')"
   ]
  },
  {
   "cell_type": "code",
   "execution_count": 49,
   "id": "547e5fe6",
   "metadata": {},
   "outputs": [
    {
     "data": {
      "image/png": "[encoded data removed]",
      "text/plain": [
       "<Figure size 640x480 with 1 Axes>"
      ]
     },
     "metadata": {},
     "output_type": "display_data"
    },
    {
     "name": "stdout",
     "output_type": "stream",
     "text": [
      "6.313425633792364 -17.916409932816194\n"
     ]
    }
   ],
   "source": [
    "from scipy import stats\n",
    "\n",
    "df_regression = df_sample[['StudyHours', 'Grade']].copy()\n",
    "\n",
    "m, b, r, o, se = stats.linregress(df_regression.StudyHours, df_regression.Grade)\n",
    "\n",
    "df_regression['fx'] = (m * df_regression.StudyHours) + b\n",
    "\n",
    "df_regression['error'] = df_regression['fx'] - df_regression['Grade']\n",
    "\n",
    "df_regression.plot.scatter(x='StudyHours', y='Grade', title='Study Hours vs Grades with Regression Line')\n",
    "\n",
    "plt.plot(df_regression.StudyHours, df_regression.fx, color='red', linewidth=2, label='Regression Line')\n",
    "\n",
    "plt.show()\n",
    "\n",
    "print(m, b)"
   ]
  },
  {
   "cell_type": "code",
   "execution_count": null,
   "id": "2854e5d0",
   "metadata": {},
   "outputs": [],
   "source": []
  }
 ],
 "metadata": {
  "kernelspec": {
   "display_name": "Python 3",
   "language": "python",
   "name": "python3"
  },
  "language_info": {
   "codemirror_mode": {
    "name": "ipython",
    "version": 3
   },
   "file_extension": ".py",
   "mimetype": "text/x-python",
   "name": "python",
   "nbconvert_exporter": "python",
   "pygments_lexer": "ipython3",
   "version": "3.11.9"
  }
 },
 "nbformat": 4,
 "nbformat_minor": 5
}
