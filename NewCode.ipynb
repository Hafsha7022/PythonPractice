{
 "cells": [
  {
   "cell_type": "code",
   "execution_count": null,
   "id": "ec5a4fec",
   "metadata": {
    "vscode": {
     "languageId": "plaintext"
    }
   },
   "outputs": [],
   "source": [
    "data = [50, 47, 97, 49, 49, 3, 53, 42, 26, 74, 84, 62, 37, 15, 70, 27, 36, 35, 48, 52, 63, 64]"
   ]
  },
  {
   "cell_type": "code",
   "execution_count": null,
   "id": "62b2f121",
   "metadata": {
    "vscode": {
     "languageId": "plaintext"
    }
   },
   "outputs": [],
   "source": [
    "import numpy as np\n",
    "grades = np.array(data)\n",
    "print(data*2)\n",
    "print(\"Grades:\", grades)\n",
    "print(grades*2)\n",
    "print(\"Mean:\", np.mean(grades))\n",
    "print(\"Median:\", np.median(grades))\n",
    "print(\"Standard Deviation:\", np.std(grades))"
   ]
  }
 ],
 "metadata": {
  "language_info": {
   "name": "python"
  }
 },
 "nbformat": 4,
 "nbformat_minor": 5
}
